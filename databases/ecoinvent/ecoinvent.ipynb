{
 "cells": [
  {
   "cell_type": "markdown",
   "metadata": {},
   "source": [
    "## documentation (proprietary)\n",
    "\n",
    "\n",
    "https://v34.ecoquery.ecoinvent.org/File/Files:\n",
    "Building matrices from spold files \n",
    "https://github.com/mdgordo/EcoInvent\n",
    "\n",
    "## documentation (free)\n",
    "\n",
    "https://ecoinvent.org/the-ecoinvent-database/data-formats/ecospold2/#:~:text=The%20ecoSpold2%20format%20is%20used,3%20released%20in%20May%202013."
   ]
  }
 ],
 "metadata": {
  "kernelspec": {
   "display_name": "Python 3.8.9 64-bit",
   "language": "python",
   "name": "python3"
  },
  "language_info": {
   "name": "python",
   "version": "3.8.9"
  },
  "orig_nbformat": 4,
  "vscode": {
   "interpreter": {
    "hash": "31f2aee4e71d21fbe5cf8b01ff0e069b9275f58929596ceb00d14d90e3e16cd6"
   }
  }
 },
 "nbformat": 4,
 "nbformat_minor": 2
}
